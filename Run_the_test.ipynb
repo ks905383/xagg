{
 "cells": [
  {
   "cell_type": "code",
   "execution_count": 1,
   "id": "df382f7e-ca94-4898-accc-8819a4e86511",
   "metadata": {
    "tags": []
   },
   "outputs": [
    {
     "name": "stdout",
     "output_type": "stream",
     "text": [
      "Found esmf.mk at: /home/malasawedah/.conda/envs/test2/lib/esmf.mk\n"
     ]
    }
   ],
   "source": [
    "import datetime\n",
    "import geopandas as gpd\n",
    "import pandas as pd\n",
    "import xarray as xr\n",
    "import numpy as np\n",
    "import shapely\n",
    "from shapely import Point, box\n",
    "import xagg as xa\n",
    "import rioxarray\n",
    "\n",
    "# supress warnings\n",
    "import warnings\n",
    "warnings.filterwarnings(\"ignore\", category=RuntimeWarning) "
   ]
  },
  {
   "cell_type": "markdown",
   "id": "94c73369-9b46-4b05-9fd7-050402aafcc8",
   "metadata": {},
   "source": [
    "#### Test"
   ]
  },
  {
   "cell_type": "code",
   "execution_count": 2,
   "id": "afc09af7-5b96-4cd9-a106-f5f4dccbe6b9",
   "metadata": {
    "tags": []
   },
   "outputs": [],
   "source": [
    "import pytest\n",
    "import pandas as pd\n",
    "import numpy as np\n",
    "import xarray as xr\n",
    "import shutil\n",
    "import geopandas as gpd\n",
    "from geopandas import testing as gpdt\n",
    "from unittest import TestCase\n",
    "from shapely.geometry import Polygon\n",
    "from functools import reduce\n",
    "\n",
    "import pytest\n",
    "import pandas as pd\n",
    "import numpy as np\n",
    "import xarray as xr\n",
    "import shutil\n",
    "import geopandas as gpd\n",
    "from geopandas import testing as gpdt\n",
    "from unittest import TestCase\n",
    "from shapely.geometry import Polygon\n",
    "\n",
    "from xagg.core import (process_weights,create_raster_polygons,get_pixel_overlaps,aggregate,read_wm)\n",
    "from xagg.wrappers import (pixel_overlaps)\n"
   ]
  },
  {
   "cell_type": "markdown",
   "id": "66c598e0-1bc1-4922-9809-09c7be26db2c",
   "metadata": {},
   "source": [
    "### test_export"
   ]
  },
  {
   "cell_type": "code",
   "execution_count": 4,
   "id": "97f72288-2e3d-4cfc-9efd-2eefeb13bc8a",
   "metadata": {
    "tags": []
   },
   "outputs": [],
   "source": [
    "ds = xr.Dataset({'test':(['lon','lat','run'],np.array([[[0,1],[2,3]],[[0,1],[2,3]]])),\n",
    "\t\t\t\t 'lat_bnds':(['lat','bnds'],np.array([[-0.5,0.5],[0.5,1.5]])),\n",
    "\t\t\t\t 'lon_bnds':(['lon','bnds'],np.array([[-0.5,0.5],[0.5,1.5]]))},\n",
    "\t\t\t\tcoords={'lat':(['lat'],np.array([0,1])),\n",
    "\t\t\t\t\t\t'lon':(['lon'],np.array([0,1])),\n",
    "\t\t\t\t\t\t'run':(['run'],np.array([0,1])),\n",
    "\t\t\t\t\t\t'bnds':(['bnds'],np.array([0,1]))})"
   ]
  },
  {
   "cell_type": "code",
   "execution_count": 5,
   "id": "97157f7a-d871-4e45-a1f5-afeb36a3b191",
   "metadata": {
    "tags": []
   },
   "outputs": [
    {
     "name": "stdout",
     "output_type": "stream",
     "text": [
      "creating polygons for each pixel...\n",
      "calculating overlaps between pixels and output polygons...\n",
      "success!\n",
      "aggregating test by weighted_mean...\n",
      "all variables aggregated to polygons!\n"
     ]
    }
   ],
   "source": [
    "# Create polygon covering multiple pixels\n",
    "gdf = {'name':['test'],\n",
    "\t\t\t'geometry':[Polygon([(0,0),(0,1),(1,1),(1,0),(0,0)])]}\n",
    "gdf = gpd.GeoDataFrame(gdf,crs=\"EPSG:4326\")\n",
    "\n",
    "# Get pixel overlaps\n",
    "wm = pixel_overlaps(ds,gdf)\n",
    "\n",
    "# Get aggregate\n",
    "agg = aggregate(ds,wm, stat=['weighted_mean'])"
   ]
  },
  {
   "cell_type": "code",
   "execution_count": 6,
   "id": "c50a4543-a112-42a5-97ee-739d00c4fc1b",
   "metadata": {
    "tags": []
   },
   "outputs": [],
   "source": [
    "################# Test to data set ################\n",
    "ds_out = agg.to_dataset()\n",
    "\n",
    "# Build reference output dataset\n",
    "ds_ref = xr.Dataset({'name':(['poly_idx'],np.array(['test']).astype(object)),\n",
    "                     'test_weighted_mean':(['poly_idx','run'],np.array([[1.0,2.0]]))},\n",
    "                coords={'poly_idx':(['poly_idx'],np.array([0])),\n",
    "                        'run':(['run'],np.array([0,1]))})\n",
    "\n",
    "# Assert equal within tolerance, again likely due to very slight \n",
    "# variation off from actual 1.0, 2.0 due to crs\n",
    "xr.testing.assert_allclose(ds_out,ds_ref,atol=0.0001)"
   ]
  },
  {
   "cell_type": "code",
   "execution_count": 7,
   "id": "fa970853-6809-4577-9aec-7818f7bc38f9",
   "metadata": {
    "tags": []
   },
   "outputs": [],
   "source": [
    "################# Test to dataframe ################\n",
    "\n",
    "\n",
    "df_out = agg.to_dataframe()\n",
    "\n",
    "# Build reference output dataframe\n",
    "df_ref = pd.DataFrame({'poly_idx':[0,0],'run':[0,1],'name':['test','test'],'test_weighted_mean':[0.9999,1.9999]})\n",
    "df_ref = df_ref.set_index(['poly_idx','run'])\n",
    "\n",
    "# Assert equal within tolerance, again likely due to very slight \n",
    "# variation off from actual 1.0, 2.0 due to crs\n",
    "pd.testing.assert_frame_equal(df_out,df_ref,atol=0.0001)"
   ]
  },
  {
   "cell_type": "markdown",
   "id": "7c5b8d78-63b7-47f4-9842-b56a8ed0dd2b",
   "metadata": {},
   "source": [
    "### test_core"
   ]
  },
  {
   "cell_type": "code",
   "execution_count": 8,
   "id": "1ceb2cd1-f33c-44ab-90ef-efb4e66b93a0",
   "metadata": {
    "tags": []
   },
   "outputs": [],
   "source": [
    "# build raster polygons from a simple 2x2 grid of lat/lon pixels\n",
    "ds = xr.Dataset({'test':(['lon','lat'],np.array([[0,1],[2,3]])),\n",
    "\t\t\t\t 'lat_bnds':(['lat','bnds'],np.array([[-0.5,0.5],[0.5,1.5]])),\n",
    "\t\t\t\t 'lon_bnds':(['lon','bnds'],np.array([[-0.5,0.5],[0.5,1.5]]))},\n",
    "\t\t\t\tcoords={'lat':(['lat'],np.array([0,1])),\n",
    "\t\t\t\t\t\t'lon':(['lon'],np.array([0,1])),\n",
    "\t\t\t\t\t\t'bnds':(['bnds'],np.array([0,1]))})\n",
    "\n",
    "# add a simple weights grid\n",
    "weights = xr.DataArray(data=np.array([[0,1],[2,3]]),\n",
    "\t\t\t\t\t\t\tdims=['lat','lon'],\n",
    "\t\t\t\t\t\t\tcoords=[ds.lat,ds.lon])\n",
    "\n",
    "# calculate the pix_agg variable tested above, to be used in the \n",
    "# tests below\n",
    "pix_agg = create_raster_polygons(ds,weights=weights)"
   ]
  },
  {
   "cell_type": "code",
   "execution_count": 9,
   "id": "b4c88425-d20c-48f6-ae1b-7e0fa56eda99",
   "metadata": {
    "scrolled": true,
    "tags": []
   },
   "outputs": [
    {
     "name": "stdout",
     "output_type": "stream",
     "text": [
      "aggregating test by weighted_mean...\n",
      "all variables aggregated to polygons!\n"
     ]
    }
   ],
   "source": [
    "############# test_get_pixel_overlaps_gdf_wpreexisting_index  ##################\n",
    "ds1 = xr.Dataset({'test':(['lon','lat'],np.array([[np.nan,np.nan],[np.nan,np.nan]])),\n",
    "                 'lat_bnds':(['lat','bnds'],np.array([[-0.5,0.5],[0.5,1.5]])),\n",
    "                 'lon_bnds':(['lon','bnds'],np.array([[-0.5,0.5],[0.5,1.5]]))},\n",
    "                coords={'lat':(['lat'],np.array([0,1])),\n",
    "                        'lon':(['lon'],np.array([0,1])),\n",
    "                        'bnds':(['bnds'],np.array([0,1]))})\n",
    "\n",
    "# get aggregation mapping\n",
    "pix_agg = create_raster_polygons(ds1)\n",
    "\n",
    "# Create polygon covering multiple pixels\n",
    "gdf = {'name':['test'],\n",
    "            'geometry':[Polygon([(0,0),(0,1),(1,1),(1,0),(0,0)])]}\n",
    "gdf = gpd.GeoDataFrame(gdf,crs=\"EPSG:4326\")\n",
    "\n",
    "\n",
    "# Get pixel overlaps\n",
    "wm = get_pixel_overlaps(gdf,pix_agg)\n",
    "\n",
    "# Get aggregate\n",
    "agg = aggregate(ds,wm)"
   ]
  },
  {
   "cell_type": "code",
   "execution_count": 10,
   "id": "f7b1222d-66dd-44c5-a251-140a1a352a05",
   "metadata": {
    "tags": []
   },
   "outputs": [
    {
     "name": "stdout",
     "output_type": "stream",
     "text": [
      "aggregating test by weighted_mean...\n",
      "all variables aggregated to polygons!\n"
     ]
    }
   ],
   "source": [
    "############# test_aggregate_basic #################\n",
    "gdf = {'name':['test'],\n",
    "            'geometry':[Polygon([(0,0),(0,1),(1,1),(1,0),(0,0)])]}\n",
    "gdf = gpd.GeoDataFrame(gdf,crs=\"EPSG:4326\")\n",
    "\n",
    "# calculate the pix_agg variable tested above, to be used in the \n",
    "# tests below\n",
    "pix_agg = create_raster_polygons(ds)\n",
    "\n",
    "# Get pixel overlaps\n",
    "wm = get_pixel_overlaps(gdf,pix_agg)\n",
    "\n",
    "# Get aggregate\n",
    "agg = aggregate(ds,wm)\n",
    "\n",
    "# This requires shifting rtol to 1e-4 for some reason, in that \n",
    "# it's actually 1.499981, whereas multiplying out \n",
    "# np.sum(agg.agg.rel_area[0]*np.array([0,1,2,3]))gives 1.499963... \n",
    "# Possibly worth examining more closely later\n",
    "assert np.allclose([v for v in agg.agg.test_weighted_mean.values],1.4999,rtol=1e-4)"
   ]
  },
  {
   "cell_type": "code",
   "execution_count": 11,
   "id": "d062db64-b30e-4a3d-9b74-f2a114e3b6e4",
   "metadata": {
    "tags": []
   },
   "outputs": [
    {
     "name": "stdout",
     "output_type": "stream",
     "text": [
      "aggregating test by weighted_mean...\n",
      "all variables aggregated to polygons!\n"
     ]
    }
   ],
   "source": [
    "################# test_aggregate_with_weights  #################\n",
    "\n",
    "gdf = {'name':['test'],\n",
    "            'geometry':[Polygon([(0,0),(0,1),(1,1),(1,0),(0,0)])]}\n",
    "gdf = gpd.GeoDataFrame(gdf,crs=\"EPSG:4326\")\n",
    "\n",
    "# add a simple weights grid (equator pixels have weight 1, \n",
    "# 1 N pixels have weight 0)\n",
    "weights = xr.DataArray(data=np.array([[1,1],[0,0]]),\n",
    "                            dims=['lat','lon'],\n",
    "                            coords=[ds.lat,ds.lon])\n",
    "\n",
    "# calculate the pix_agg variable tested above, to be used in the \n",
    "# tests below\n",
    "pix_agg = create_raster_polygons(ds,weights=weights)\n",
    "\n",
    "\n",
    "# Get pixel overlaps\n",
    "wm = get_pixel_overlaps(gdf,pix_agg)\n",
    "\n",
    "# Get aggregate\n",
    "agg = aggregate(ds,wm)\n",
    "\n",
    "# Since the \"test\" for the input ds has [0,2] for the two \n",
    "# equatorial pixels, the average should just be 1.0\n",
    "assert np.allclose([v for v in agg.agg.test_weighted_mean.values],1.0)"
   ]
  },
  {
   "cell_type": "code",
   "execution_count": 12,
   "id": "a9e207aa-7ba2-4c62-a476-c508b7a6d005",
   "metadata": {
    "tags": []
   },
   "outputs": [
    {
     "name": "stdout",
     "output_type": "stream",
     "text": [
      "aggregating test by weighted_mean...\n",
      "all variables aggregated to polygons!\n"
     ]
    }
   ],
   "source": [
    "################ test_aggregate_with_mismatched_grid  ###############\n",
    "ds = xr.Dataset({'test':(['lon','lat'],np.array([[30,40,50],[10,0,1],[20,2,3]])),\n",
    "             'lat_bnds':(['lat','bnds'],np.array([[-1.5,-0.5],[-0.5,0.5],[0.5,1.5]])),\n",
    "             'lon_bnds':(['lon','bnds'],np.array([[-1.5,-0.5],[-0.5,0.5],[0.5,1.5]]))},\n",
    "            coords={'lat':(['lat'],np.array([-1,0,1])),\n",
    "                    'lon':(['lon'],np.array([-1,0,1])),\n",
    "                    'bnds':(['bnds'],np.array([0,1]))})\n",
    "\n",
    "\n",
    "# Create polygon covering multiple pixels\n",
    "gdf = {'name':['test'],\n",
    "            'geometry':[Polygon([(0,0),(0,1),(1,1),(1,0),(0,0)])]}\n",
    "gdf = gpd.GeoDataFrame(gdf,crs=\"EPSG:4326\")\n",
    "\n",
    "# calculate the pix_agg variable tested above, to be used in the \n",
    "# tests below\n",
    "pix_agg = create_raster_polygons(ds)\n",
    "\n",
    "\n",
    "# Get pixel overlaps\n",
    "wm = get_pixel_overlaps(gdf,pix_agg)\n",
    "\n",
    "# Get aggregate\n",
    "agg = aggregate(ds,wm)\n",
    "\n",
    "# On change in rtol, see note in test_aggregate_basic\n",
    "assert np.allclose([v for v in agg.agg.test_weighted_mean.values],1.4999,rtol=1e-4)"
   ]
  },
  {
   "cell_type": "code",
   "execution_count": 13,
   "id": "d1cbc317-c633-4656-a062-24cdb3692425",
   "metadata": {
    "scrolled": true
   },
   "outputs": [
    {
     "name": "stdout",
     "output_type": "stream",
     "text": [
      "aggregating test by weighted_mean...\n",
      "all variables aggregated to polygons!\n"
     ]
    }
   ],
   "source": [
    "################ test_aggregate_with_all_nans  ####################\n",
    "ds = xr.Dataset({'test':(['lon','lat'],np.array([[np.nan,np.nan],[np.nan,np.nan]])),\n",
    "                 'lat_bnds':(['lat','bnds'],np.array([[-0.5,0.5],[0.5,1.5]])),\n",
    "                 'lon_bnds':(['lon','bnds'],np.array([[-0.5,0.5],[0.5,1.5]]))},\n",
    "                coords={'lat':(['lat'],np.array([0,1])),\n",
    "                        'lon':(['lon'],np.array([0,1])),\n",
    "                        'bnds':(['bnds'],np.array([0,1]))})\n",
    "\n",
    "# get aggregation mapping\n",
    "pix_agg = create_raster_polygons(ds)\n",
    "\n",
    "# Create polygon covering multiple pixels\n",
    "gdf = {'name':['test'],\n",
    "            'geometry':[Polygon([(0,0),(0,1),(1,1),(1,0),(0,0)])]}\n",
    "gdf = gpd.GeoDataFrame(gdf,crs=\"EPSG:4326\")\n",
    "\n",
    "\n",
    "# Get pixel overlaps\n",
    "wm = get_pixel_overlaps(gdf,pix_agg)\n",
    "\n",
    "# Get aggregate\n",
    "agg = aggregate(ds,wm)\n",
    "\n",
    "# Should only return nan \n",
    "# (this is not a great assert - but agg.agg.test[0] comes out as [array(nan)], \n",
    "# which... I'm not entirely sure how to reproduce. It quaks like a single nan,\n",
    "# but it's unclear to me how to get it to work)\n",
    "assert np.all([np.isnan(k) for k in agg.agg.test])"
   ]
  },
  {
   "cell_type": "code",
   "execution_count": null,
   "id": "7f947d43-38fd-4743-b1ee-667a0f65b5b4",
   "metadata": {},
   "outputs": [],
   "source": []
  }
 ],
 "metadata": {
  "kernelspec": {
   "display_name": "test2",
   "language": "python",
   "name": "test2"
  },
  "language_info": {
   "codemirror_mode": {
    "name": "ipython",
    "version": 3
   },
   "file_extension": ".py",
   "mimetype": "text/x-python",
   "name": "python",
   "nbconvert_exporter": "python",
   "pygments_lexer": "ipython3",
   "version": "3.11.4"
  }
 },
 "nbformat": 4,
 "nbformat_minor": 5
}
