{
 "cells": [
  {
   "cell_type": "code",
   "execution_count": 1,
   "id": "df382f7e-ca94-4898-accc-8819a4e86511",
   "metadata": {
    "tags": []
   },
   "outputs": [
    {
     "name": "stdout",
     "output_type": "stream",
     "text": [
      "Found esmf.mk at: /home/malasawedah/.conda/envs/test2/lib/esmf.mk\n"
     ]
    }
   ],
   "source": [
    "import datetime\n",
    "import geopandas as gpd\n",
    "import pandas as pd\n",
    "import xarray as xr\n",
    "import numpy as np\n",
    "import shapely\n",
    "from shapely import Point, box\n",
    "import xagg as xa\n",
    "import rioxarray\n",
    "\n",
    "# supress warnings\n",
    "import warnings\n",
    "warnings.filterwarnings(\"ignore\", category=RuntimeWarning) "
   ]
  },
  {
   "cell_type": "markdown",
   "id": "94c73369-9b46-4b05-9fd7-050402aafcc8",
   "metadata": {},
   "source": [
    "#### Test"
   ]
  },
  {
   "cell_type": "code",
   "execution_count": 31,
   "id": "afc09af7-5b96-4cd9-a106-f5f4dccbe6b9",
   "metadata": {
    "tags": []
   },
   "outputs": [],
   "source": [
    "import pytest\n",
    "import pandas as pd\n",
    "import numpy as np\n",
    "import xarray as xr\n",
    "import shutil\n",
    "import geopandas as gpd\n",
    "from geopandas import testing as gpdt\n",
    "from unittest import TestCase\n",
    "from shapely.geometry import Polygon\n",
    "from functools import reduce\n",
    "\n",
    "import pytest\n",
    "import pandas as pd\n",
    "import numpy as np\n",
    "import xarray as xr\n",
    "import shutil\n",
    "import geopandas as gpd\n",
    "from geopandas import testing as gpdt\n",
    "from unittest import TestCase\n",
    "from shapely.geometry import Polygon\n",
    "\n",
    "from xagg.core import (process_weights,create_raster_polygons,get_pixel_overlaps,aggregate,read_wm)\n",
    "from xagg.wrappers import (pixel_overlaps)\n"
   ]
  },
  {
   "cell_type": "code",
   "execution_count": 32,
   "id": "97f72288-2e3d-4cfc-9efd-2eefeb13bc8a",
   "metadata": {
    "tags": []
   },
   "outputs": [],
   "source": [
    "ds = xr.Dataset({'test':(['lon','lat','run'],np.array([[[0,1],[2,3]],[[0,1],[2,3]]])),\n",
    "\t\t\t\t 'lat_bnds':(['lat','bnds'],np.array([[-0.5,0.5],[0.5,1.5]])),\n",
    "\t\t\t\t 'lon_bnds':(['lon','bnds'],np.array([[-0.5,0.5],[0.5,1.5]]))},\n",
    "\t\t\t\tcoords={'lat':(['lat'],np.array([0,1])),\n",
    "\t\t\t\t\t\t'lon':(['lon'],np.array([0,1])),\n",
    "\t\t\t\t\t\t'run':(['run'],np.array([0,1])),\n",
    "\t\t\t\t\t\t'bnds':(['bnds'],np.array([0,1]))})"
   ]
  },
  {
   "cell_type": "code",
   "execution_count": 33,
   "id": "97157f7a-d871-4e45-a1f5-afeb36a3b191",
   "metadata": {
    "tags": []
   },
   "outputs": [
    {
     "name": "stdout",
     "output_type": "stream",
     "text": [
      "creating polygons for each pixel...\n",
      "calculating overlaps between pixels and output polygons...\n",
      "success!\n",
      "aggregating test by mean...\n",
      "all variables aggregated to polygons!\n"
     ]
    }
   ],
   "source": [
    "# Create polygon covering multiple pixels\n",
    "gdf = {'name':['test'],\n",
    "\t\t\t'geometry':[Polygon([(0,0),(0,1),(1,1),(1,0),(0,0)])]}\n",
    "gdf = gpd.GeoDataFrame(gdf,crs=\"EPSG:4326\")\n",
    "\n",
    "# Get pixel overlaps\n",
    "wm = pixel_overlaps(ds,gdf)\n",
    "\n",
    "# Get aggregate\n",
    "agg = aggregate(ds,wm, stat=['mean'])"
   ]
  },
  {
   "cell_type": "code",
   "execution_count": 34,
   "id": "c50a4543-a112-42a5-97ee-739d00c4fc1b",
   "metadata": {
    "tags": []
   },
   "outputs": [],
   "source": [
    "################# Test to data set ################\n",
    "ds_out = agg.to_dataset()\n",
    "\n",
    "# Build reference output dataset\n",
    "ds_ref = xr.Dataset({'name':(['poly_idx'],np.array(['test']).astype(object)),\n",
    "                     'test_mean':(['poly_idx','run'],np.array([[1.0,2.0]]))},\n",
    "                coords={'poly_idx':(['poly_idx'],np.array([0])),\n",
    "                        'run':(['run'],np.array([0,1]))})\n",
    "\n",
    "# Assert equal within tolerance, again likely due to very slight \n",
    "# variation off from actual 1.0, 2.0 due to crs\n",
    "xr.testing.assert_allclose(ds_out,ds_ref,atol=0.0001)"
   ]
  },
  {
   "cell_type": "code",
   "execution_count": 36,
   "id": "fa970853-6809-4577-9aec-7818f7bc38f9",
   "metadata": {
    "tags": []
   },
   "outputs": [],
   "source": [
    "################# Test to dataframe ################\n",
    "\n",
    "\n",
    "df_out = agg.to_dataframe()\n",
    "\n",
    "# Build reference output dataframe\n",
    "df_ref = pd.DataFrame({'poly_idx':[0,0],'run':[0,1],'name':['test','test'],'test_mean':[0.9999,1.9999]})\n",
    "df_ref = df_ref.set_index(['poly_idx','run'])\n",
    "\n",
    "# Assert equal within tolerance, again likely due to very slight \n",
    "# variation off from actual 1.0, 2.0 due to crs\n",
    "pd.testing.assert_frame_equal(df_out,df_ref,atol=0.0001)"
   ]
  },
  {
   "cell_type": "code",
   "execution_count": null,
   "id": "b4c88425-d20c-48f6-ae1b-7e0fa56eda99",
   "metadata": {},
   "outputs": [],
   "source": []
  }
 ],
 "metadata": {
  "kernelspec": {
   "display_name": "test2",
   "language": "python",
   "name": "test2"
  },
  "language_info": {
   "codemirror_mode": {
    "name": "ipython",
    "version": 3
   },
   "file_extension": ".py",
   "mimetype": "text/x-python",
   "name": "python",
   "nbconvert_exporter": "python",
   "pygments_lexer": "ipython3",
   "version": "3.11.4"
  }
 },
 "nbformat": 4,
 "nbformat_minor": 5
}
