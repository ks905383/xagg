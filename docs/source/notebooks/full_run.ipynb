{
 "cells": [
  {
   "cell_type": "markdown",
   "id": "electrical-giving",
   "metadata": {},
   "source": [
    "# Detailed code run\n",
    "Here is a deep dive in to the `xagg` functionality."
   ]
  },
  {
   "cell_type": "code",
   "execution_count": null,
   "id": "broken-labor",
   "metadata": {},
   "outputs": [],
   "source": [
    "import xagg as xa\n",
    "import xarray as xr\n",
    "import numpy as np\n",
    "import geopandas as gpd"
   ]
  },
  {
   "cell_type": "markdown",
   "id": "healthy-suicide",
   "metadata": {},
   "source": [
    "## Intro\n",
    "We'll be aggregating a gridded dataset onto a set of shapefiles, using an extra set of weights. Specifically, we'll use:\n",
    "- gridded: month-of-year average temperature projections for the end-of-century from a climate model (CCSM4)\n",
    "- shapefiles: US counties\n",
    "- additional weights: global gridded population density ([GPW](https://sedac.ciesin.columbia.edu/data/collection/gpw-v4), 30 min resolution)\n",
    "\n",
    "This is a setup that you may for example use if projecting the impact of temperature on some human variable (temperature vs. mortality, for example) for which you have data at the US county level. Since your mortality data is likely at the county level, you need to aggregate the gridded climate model output data to counties - i.e., what is the average temperature over each county? This code will calculate which pixels overlap each county - and by how much - allowing an area-averaged value for monthly temperature at the county level. \n",
    "\n",
    "However, you also care about where people live - so you'd like to additionally weight your temperature estimate by a population density dataset. This code easily allows such additional weights. The resultant output is a value of temperature for each month at each county, averaged by both the overlap of individual pixels and the population density in those pixels. (_NB: GPWv4 just averages a political unit's population over a pixel grid, so it might not be the best product in this particular use case, but is used as a sample here_)\n",
    "\n",
    "Let's get started."
   ]
  },
  {
   "cell_type": "markdown",
   "id": "c278bcbd-0e54-47a5-ae50-0d0fae0d6565",
   "metadata": {},
   "source": [
    "### Extra downloads\n",
    "Since we will be using an extra `weights` file that must be regridded, we need the optional dependency `xesmf`, which we can install through: \n",
    "\n",
    "`mamba install -c conda-forge xesmf`\n",
    "\n",
    "Since we will be using the optional feature `.diag_fig()`, we need the optional dependencies `matplotlib`, `cartopy`, and `cmocean`, which we can install through: \n",
    "\n",
    "`mamba install -c conda-forge matplotlib cartopy cmocean`"
   ]
  },
  {
   "cell_type": "markdown",
   "id": "a3de1c17-f535-46eb-8cc2-f7a19ab1aa58",
   "metadata": {},
   "source": [
    "### Load data"
   ]
  },
  {
   "cell_type": "code",
   "execution_count": 2,
   "id": "convinced-instruction",
   "metadata": {},
   "outputs": [],
   "source": [
    "# Load some climate data as an xarray dataset\n",
    "ds = xr.open_dataset('../../data/climate_data/tas_Amon_CCSM4_rcp85_monthavg_20700101-20991231.nc')"
   ]
  },
  {
   "cell_type": "code",
   "execution_count": 3,
   "id": "vocational-toolbox",
   "metadata": {},
   "outputs": [],
   "source": [
    "# Load US counties shapefile as a geopandas GeoDataFrame\n",
    "gdf = gpd.read_file('../../data/geo_data/UScounties.shp')"
   ]
  },
  {
   "cell_type": "code",
   "execution_count": 4,
   "id": "republican-prague",
   "metadata": {},
   "outputs": [],
   "source": [
    "# Load global gridded population data from GPW\n",
    "ds_pop = xr.open_dataset('../../data/pop_data/pop2000.nc')"
   ]
  },
  {
   "cell_type": "markdown",
   "id": "interstate-yeast",
   "metadata": {},
   "source": [
    "_NB: the GPW file above has been pre-processed, by subsampling to `raster=0` (the 2000 population), and renaming the primary variable to `pop` for ease of use._"
   ]
  },
  {
   "cell_type": "markdown",
   "id": "abandoned-theme",
   "metadata": {},
   "source": [
    "## Calculating area weights between a raster grid and polygons\n",
    "First, `xagg` has to figure out how much each pixel overlaps each polygon. This process requires a few steps:\n",
    "\n",
    "0. Get everything in the right format. \n",
    "    * Gridded data comes in all shapes and sizes. `xagg` is ready to deal with most common grid naming conventions - so no matter if your lat and lon variables are called 'Latitude' and 'Longitude' or 'y' and 'x' or many options in between, as long as they're in xarray Datasets or DataArrays, they'll work. \n",
    "    * Behind the scenes, longitude values are also forced to -180:180 (from 0:360, if applicable), just to make sure everything is operating in the same coordinate system. \n",
    "1. Build polygons for each pixel \n",
    "    * To figure out how much each pixel overlaps each polygon, pixel polygons have to be constructed. If your gridded variable already has \"lat_bnds\" and \"lon_bnds\" (giving the vertices of each pixel) explicitly included in the `xr.Dataset`, then those are used. If none are found, \"lat_bnds\" and \"lon_bnds\" are constructed by assuming the vertices are halfway between the coordinates in degrees. \n",
    "    * If an additional weighting is used, the weighting dataset and your gridded data have to be homogenized at this stage. By default, the weighting dataset is regridded to your gridded data using `xesmf`$^*$. Future versions will also allow regridding the gridded data to the weighting dataset here(it's already accounted for in some of the functions, but not all).\n",
    "    * To avoid creating gigantic geodataframes with pixel polygons, the dataset is by default subset to a bounding box around the shapefiles first. In the aggregating code below, this subsetting is taken into account, and the input `ds` into `xa.aggregate` is matched to the original source grid on which the overlaps were calculated. \n",
    "2. Calculate area overlaps between each pixel and each polygon\n",
    "    * Now, the overlap between each pixel and each polygon is calculated. Using `geopandas`' excellent polygon boolean operations and area calculations, the intersection between the raster grid and the polygon is calculated. For each polygon, the coordinates of each pixel that intersects it is saved, as is the relative area of that overlap (as an example, if you had a county the size and shape of one pixel, but located half in one pixel and half in the other pixel, those two pixels would be saved, and their relative area would be 0.5 each). Areas are calculated using the WGS84 geoid. \n",
    "\n",
    "$^*$ NB: Regridding the weight function happens using the `'conservative'` [algorithm](https://xesmf.readthedocs.io/en/stable/notebooks/Compare_algorithms.html) from `xesmf`. In addition, before regridding, `nan`s in the weight file will be set to 0, since the conservative regridder would otherwise set any grid cells that overlap with a `nan` grid cell in teh original grid to `nan` instead of 0. Since in many weight files, `nan` imply 0 (such as population density over water), this is often the more accurate choice. To change either, use, e.g., `xa.set_options(rgrd_alg='bilinear',nan_to_zero_regridding=False)`."
   ]
  },
  {
   "cell_type": "code",
   "execution_count": 5,
   "id": "underlying-utilization",
   "metadata": {},
   "outputs": [
    {
     "name": "stdout",
     "output_type": "stream",
     "text": [
      "creating polygons for each pixel...\n",
      "regridding weights to data grid...\n",
      "calculating overlaps between pixels and output polygons...\n",
      "success!\n"
     ]
    }
   ],
   "source": [
    "# Calculate overlaps\n",
    "weightmap = xa.pixel_overlaps(ds,gdf,weights=ds_pop.pop)"
   ]
  },
  {
   "cell_type": "markdown",
   "id": "d2e7bd60-7859-45e2-9c2a-de73d0a44833",
   "metadata": {},
   "source": [
    "In general, we can suppress these status updates using:"
   ]
  },
  {
   "cell_type": "code",
   "execution_count": null,
   "id": "6855fba5-e6d4-4410-8072-37b091c67b24",
   "metadata": {},
   "outputs": [],
   "source": [
    "with xa.set_options(silent=True):\n",
    "    weightmap = xa.pixel_overlaps(ds,gdf,weights=ds_pop.pop)\n",
    "\n",
    "# Or, to set as a default for the whole session, \n",
    "xa.set_options(silent=True)"
   ]
  },
  {
   "cell_type": "markdown",
   "id": "2e6c1fd7-a2d6-4ea8-8c38-441b62247a3e",
   "metadata": {},
   "source": [
    "### Exporting / Importing the weightmap "
   ]
  },
  {
   "cell_type": "markdown",
   "id": "ee2451e7-2e92-4cee-9d28-7b51625928ec",
   "metadata": {},
   "source": [
    "At this point, the weightmap can be exported, if desired, and re-loaded later. This can be especially useful if the raster you're working with is very large, and repeated calls to `xa.pixel_overlaps()` are impractical. "
   ]
  },
  {
   "cell_type": "code",
   "execution_count": 6,
   "id": "9b5ba5c3-03ce-4fdb-866d-a937295b83f8",
   "metadata": {},
   "outputs": [
    {
     "name": "stderr",
     "output_type": "stream",
     "text": [
      "/Users/kevinschwarzwald/opt/anaconda3/envs/xagg0320/lib/python3.12/site-packages/xagg/export.py:17: UserWarning: export_weightmap() is still an experimental feature. use with care.\n",
      "  warnings.warn('export_weightmap() is still an experimental feature. use with care.')\n"
     ]
    }
   ],
   "source": [
    "# Export weightmap to a directory called \"wm\" in the current directory\n",
    "weightmap.to_file('./wm')"
   ]
  },
  {
   "cell_type": "markdown",
   "id": "ccd35507-8890-409f-b495-18493807f15b",
   "metadata": {},
   "source": [
    "The weightmap can then be imported again using: "
   ]
  },
  {
   "cell_type": "code",
   "execution_count": 7,
   "id": "a6f23714-51b8-43f6-8fda-49299c6b56fc",
   "metadata": {},
   "outputs": [],
   "source": [
    "# Load weightmap\n",
    "weightmap = xa.read_wm('wm')"
   ]
  },
  {
   "cell_type": "markdown",
   "id": "e297b4c4-22b9-427c-893e-f3ab708f853d",
   "metadata": {},
   "source": [
    "### Verifying the weightmap"
   ]
  },
  {
   "cell_type": "markdown",
   "id": "a0ceaf52-bc04-4630-a017-8157b24ce9d0",
   "metadata": {},
   "source": [
    "Let's verify if the aggregation was successful. The `weightmap` class can produce diagnostic figures that show a given polygon + the grid cells of the original raster dataset that overlap it."
   ]
  },
  {
   "cell_type": "code",
   "execution_count": 9,
   "id": "9320f9f4-ff72-48cc-b2d2-32d4656a7e42",
   "metadata": {},
   "outputs": [
    {
     "data": {
      "image/png": "[encoded data removed]",
      "text/plain": [
       "<Figure size 640x480 with 2 Axes>"
      ]
     },
     "metadata": {},
     "output_type": "display_data"
    }
   ],
   "source": [
    "# Create diagnostic figure of the polygon with index 50 in `gdf` (in this \n",
    "# case, a county in Montana). You can verify this is the 50th row in `gdf`\n",
    "# by printing `gdf.loc[50]`. \n",
    "weightmap.diag_fig(50,ds)"
   ]
  },
  {
   "cell_type": "markdown",
   "id": "075f03b0-f099-44fe-a157-8b1825849bb6",
   "metadata": {},
   "source": [
    "This diagnostic figure shows the weight used for each grid, relative to the grid cell with the largest overlap. For this county in Montana, the middle grid cell has the largest area overlap, followed by the grid cell to the left. The bottom right grid cell only barely touches the county and therefore has a much lower relative weight in the aggregation calculation. "
   ]
  },
  {
   "cell_type": "code",
   "execution_count": 10,
   "id": "ee65af89-36b3-4dbe-b747-d30ede0e1120",
   "metadata": {},
   "outputs": [
    {
     "name": "stdout",
     "output_type": "stream",
     "text": [
      "Index(['NAME', 'STATE_NAME', 'STATE_FIPS', 'CNTY_FIPS', 'FIPS', 'geometry'], dtype='object')\n"
     ]
    }
   ],
   "source": [
    "# Alternatively, you can select a polygon based on other columns\n",
    "# in the `gdf`, aka based on county metadata from the original \n",
    "# shapefile. \n",
    "print(gdf.columns)"
   ]
  },
  {
   "cell_type": "code",
   "execution_count": 11,
   "id": "46c275c1-5224-4492-a21d-4161662453ca",
   "metadata": {},
   "outputs": [
    {
     "data": {
      "image/png": "[encoded data removed]",
      "text/plain": [
       "<Figure size 640x480 with 2 Axes>"
      ]
     },
     "metadata": {},
     "output_type": "display_data"
    }
   ],
   "source": [
    "# Let's use the \"NAME\" (aka, county name) column to plot a \n",
    "# diagnostic plot of Los Angeles county\n",
    "weightmap.diag_fig({'NAME':'Los Angeles'},ds)"
   ]
  },
  {
   "cell_type": "markdown",
   "id": "91a18949-7473-4d26-9ec4-a34b58157c96",
   "metadata": {},
   "source": [
    "Note that, as before, the colormap is set so that \"1\" / the darkest shade is the area overlap between LA county (in green) and the pixel that most overlaps the county polygon, which in this case is the top left pixel. The top right has a similarly large (but smaller) overlap, and also has a dark shade. \n",
    "\n",
    "Note that grid cells covering (nearly uninhabited) San Clemente and (sparsely populated) Catalina Islands will contribute to any aggregated county-level metrics, since the islands are part of LA County (depending on the application, this may perhaps be an argument for additionally using a population weight layer, as we do in this example). "
   ]
  },
  {
   "cell_type": "markdown",
   "id": "automated-version",
   "metadata": {},
   "source": [
    "## Aggregating gridded data to the polygons using the area weights (and other weights) calculated above\n",
    "Now that we know which pixels overlap which polygons and by how much (and what the value of the population weight for each pixel is), it's time to aggregate data to the polygon level. `xagg` will assume that all variables in the original `ds` that have `lat` and `lon` coordinates should be aggregated. These variables may have extra dimensions (3-D variables (i.e. `lon x lat x time`) are supported; 4-D etc. _should_ be supported but haven't been tested yet - the biggest issue may be in exporting). \n",
    "\n",
    "Since we included an additional weighting grid, this dataset is included in `weightmap` from above and is seamlessly integrated into the weighting scheme.  "
   ]
  },
  {
   "cell_type": "code",
   "execution_count": 12,
   "id": "proved-administration",
   "metadata": {},
   "outputs": [
    {
     "name": "stdout",
     "output_type": "stream",
     "text": [
      "adjusting grid... (this may happen because only a subset of pixels were used for aggregation for efficiency - i.e. [subset_bbox=True] in xa.pixel_overlaps())\n",
      "grid adjustment successful\n",
      "aggregating tas...\n",
      "all variables aggregated to polygons!\n"
     ]
    }
   ],
   "source": [
    "# Aggregate\n",
    "aggregated = xa.aggregate(ds,weightmap)\n",
    "\n",
    "# as before, use with xa.set_defaults(silent=True) to silence output. "
   ]
  },
  {
   "cell_type": "markdown",
   "id": "distinguished-bolivia",
   "metadata": {},
   "source": [
    "## Converting aggregated data\n",
    "Now that the data is aggregated, we want it in a useable format. \n",
    "\n",
    "Supported formats for converting include:\n",
    "- `xarray` Dataset (using `.to_dataset()`)\n",
    "    - Grid dimensions from the original dataset are replaced with a single dimensions for polygons - by default called \"poly_idx\" (change this with the `loc_dim=...` option). Aggregated variables keep their non-grid dimensions unchanged; with their grid dimension replaced as above. \n",
    "    - All original fields from the `geodataframe` are kept as `poly_idx x 1` variables. \n",
    "- `pandas` Dataframe (using `.to_dataframe()`)\n",
    "    - All original fields from the `geodataframe` are kept; the aggregated variables are added as separate columns. If the aggregated variables have a 3rd dimension, they are reshaped long - with procedurally generated column names (just `[var]0`, `[var]1`, ... for now). \n",
    "\n",
    "(the \"raw\" form of the geodataframe used to create these can also be directly accessed through `aggregated.agg`)\n",
    "\n"
   ]
  },
  {
   "cell_type": "code",
   "execution_count": 13,
   "id": "dressed-curve",
   "metadata": {},
   "outputs": [
    {
     "data": {
      "text/html": [
       "<div><svg style=\"position: absolute; width: 0; height: 0; overflow: hidden\">\n",
       "<defs>\n",
       "<symbol id=\"icon-database\" viewBox=\"0 0 32 32\">\n",
       "<path d=\"M16 0c-8.837 0-16 2.239-16 5v4c0 2.761 7.163 5 16 5s16-2.239 16-5v-4c0-2.761-7.163-5-16-5z\"></path>\n",
       "<path d=\"M16 17c-8.837 0-16-2.239-16-5v6c0 2.761 7.163 5 16 5s16-2.239 16-5v-6c0 2.761-7.163 5-16 5z\"></path>\n",
       "<path d=\"M16 26c-8.837 0-16-2.239-16-5v6c0 2.761 7.163 5 16 5s16-2.239 16-5v-6c0 2.761-7.163 5-16 5z\"></path>\n",
       "</symbol>\n",
       "<symbol id=\"icon-file-text2\" viewBox=\"0 0 32 32\">\n",
       "<path d=\"M28.681 7.159c-0.694-0.947-1.662-2.053-2.724-3.116s-2.169-2.030-3.116-2.724c-1.612-1.182-2.393-1.319-2.841-1.319h-15.5c-1.378 0-2.5 1.121-2.5 2.5v27c0 1.378 1.122 2.5 2.5 2.5h23c1.378 0 2.5-1.122 2.5-2.5v-19.5c0-0.448-0.137-1.23-1.319-2.841zM24.543 5.457c0.959 0.959 1.712 1.825 2.268 2.543h-4.811v-4.811c0.718 0.556 1.584 1.309 2.543 2.268zM28 29.5c0 0.271-0.229 0.5-0.5 0.5h-23c-0.271 0-0.5-0.229-0.5-0.5v-27c0-0.271 0.229-0.5 0.5-0.5 0 0 15.499-0 15.5 0v7c0 0.552 0.448 1 1 1h7v19.5z\"></path>\n",
       "<path d=\"M23 26h-14c-0.552 0-1-0.448-1-1s0.448-1 1-1h14c0.552 0 1 0.448 1 1s-0.448 1-1 1z\"></path>\n",
       "<path d=\"M23 22h-14c-0.552 0-1-0.448-1-1s0.448-1 1-1h14c0.552 0 1 0.448 1 1s-0.448 1-1 1z\"></path>\n",
       "<path d=\"M23 18h-14c-0.552 0-1-0.448-1-1s0.448-1 1-1h14c0.552 0 1 0.448 1 1s-0.448 1-1 1z\"></path>\n",
       "</symbol>\n",
       "</defs>\n",
       "</svg>\n",
       "<style>/* CSS stylesheet for displaying xarray objects in jupyterlab.\n",
       " *\n",
       " */\n",
       "\n",
       ":root {\n",
       "  --xr-font-color0: var(--jp-content-font-color0, rgba(0, 0, 0, 1));\n",
       "  --xr-font-color2: var(--jp-content-font-color2, rgba(0, 0, 0, 0.54));\n",
       "  --xr-font-color3: var(--jp-content-font-color3, rgba(0, 0, 0, 0.38));\n",
       "  --xr-border-color: var(--jp-border-color2, #e0e0e0);\n",
       "  --xr-disabled-color: var(--jp-layout-color3, #bdbdbd);\n",
       "  --xr-background-color: var(--jp-layout-color0, white);\n",
       "  --xr-background-color-row-even: var(--jp-layout-color1, white);\n",
       "  --xr-background-color-row-odd: var(--jp-layout-color2, #eeeeee);\n",
       "}\n",
       "\n",
       "html[theme=dark],\n",
       "body[data-theme=dark],\n",
       "body.vscode-dark {\n",
       "  --xr-font-color0: rgba(255, 255, 255, 1);\n",
       "  --xr-font-color2: rgba(255, 255, 255, 0.54);\n",
       "  --xr-font-color3: rgba(255, 255, 255, 0.38);\n",
       "  --xr-border-color: #1F1F1F;\n",
       "  --xr-disabled-color: #515151;\n",
       "  --xr-background-color: #111111;\n",
       "  --xr-background-color-row-even: #111111;\n",
       "  --xr-background-color-row-odd: #313131;\n",
       "}\n",
       "\n",
       ".xr-wrap {\n",
       "  display: block !important;\n",
       "  min-width: 300px;\n",
       "  max-width: 700px;\n",
       "}\n",
       "\n",
       ".xr-text-repr-fallback {\n",
       "  /* fallback to plain text repr when CSS is not injected (untrusted notebook) */\n",
       "  display: none;\n",
       "}\n",
       "\n",
       ".xr-header {\n",
       "  padding-top: 6px;\n",
       "  padding-bottom: 6px;\n",
       "  margin-bottom: 4px;\n",
       "  border-bottom: solid 1px var(--xr-border-color);\n",
       "}\n",
       "\n",
       ".xr-header > div,\n",
       ".xr-header > ul {\n",
       "  display: inline;\n",
       "  margin-top: 0;\n",
       "  margin-bottom: 0;\n",
       "}\n",
       "\n",
       ".xr-obj-type,\n",
       ".xr-array-name {\n",
       "  margin-left: 2px;\n",
       "  margin-right: 10px;\n",
       "}\n",
       "\n",
       ".xr-obj-type {\n",
       "  color: var(--xr-font-color2);\n",
       "}\n",
       "\n",
       ".xr-sections {\n",
       "  padding-left: 0 !important;\n",
       "  display: grid;\n",
       "  grid-template-columns: 150px auto auto 1fr 20px 20px;\n",
       "}\n",
       "\n",
       ".xr-section-item {\n",
       "  display: contents;\n",
       "}\n",
       "\n",
       ".xr-section-item input {\n",
       "  display: none;\n",
       "}\n",
       "\n",
       ".xr-section-item input + label {\n",
       "  color: var(--xr-disabled-color);\n",
       "}\n",
       "\n",
       ".xr-section-item input:enabled + label {\n",
       "  cursor: pointer;\n",
       "  color: var(--xr-font-color2);\n",
       "}\n",
       "\n",
       ".xr-section-item input:enabled + label:hover {\n",
       "  color: var(--xr-font-color0);\n",
       "}\n",
       "\n",
       ".xr-section-summary {\n",
       "  grid-column: 1;\n",
       "  color: var(--xr-font-color2);\n",
       "  font-weight: 500;\n",
       "}\n",
       "\n",
       ".xr-section-summary > span {\n",
       "  display: inline-block;\n",
       "  padding-left: 0.5em;\n",
       "}\n",
       "\n",
       ".xr-section-summary-in:disabled + label {\n",
       "  color: var(--xr-font-color2);\n",
       "}\n",
       "\n",
       ".xr-section-summary-in + label:before {\n",
       "  display: inline-block;\n",
       "  content: '►';\n",
       "  font-size: 11px;\n",
       "  width: 15px;\n",
       "  text-align: center;\n",
       "}\n",
       "\n",
       ".xr-section-summary-in:disabled + label:before {\n",
       "  color: var(--xr-disabled-color);\n",
       "}\n",
       "\n",
       ".xr-section-summary-in:checked + label:before {\n",
       "  content: '▼';\n",
       "}\n",
       "\n",
       ".xr-section-summary-in:checked + label > span {\n",
       "  display: none;\n",
       "}\n",
       "\n",
       ".xr-section-summary,\n",
       ".xr-section-inline-details {\n",
       "  padding-top: 4px;\n",
       "  padding-bottom: 4px;\n",
       "}\n",
       "\n",
       ".xr-section-inline-details {\n",
       "  grid-column: 2 / -1;\n",
       "}\n",
       "\n",
       ".xr-section-details {\n",
       "  display: none;\n",
       "  grid-column: 1 / -1;\n",
       "  margin-bottom: 5px;\n",
       "}\n",
       "\n",
       ".xr-section-summary-in:checked ~ .xr-section-details {\n",
       "  display: contents;\n",
       "}\n",
       "\n",
       ".xr-array-wrap {\n",
       "  grid-column: 1 / -1;\n",
       "  display: grid;\n",
       "  grid-template-columns: 20px auto;\n",
       "}\n",
       "\n",
       ".xr-array-wrap > label {\n",
       "  grid-column: 1;\n",
       "  vertical-align: top;\n",
       "}\n",
       "\n",
       ".xr-preview {\n",
       "  color: var(--xr-font-color3);\n",
       "}\n",
       "\n",
       ".xr-array-preview,\n",
       ".xr-array-data {\n",
       "  padding: 0 5px !important;\n",
       "  grid-column: 2;\n",
       "}\n",
       "\n",
       ".xr-array-data,\n",
       ".xr-array-in:checked ~ .xr-array-preview {\n",
       "  display: none;\n",
       "}\n",
       "\n",
       ".xr-array-in:checked ~ .xr-array-data,\n",
       ".xr-array-preview {\n",
       "  display: inline-block;\n",
       "}\n",
       "\n",
       ".xr-dim-list {\n",
       "  display: inline-block !important;\n",
       "  list-style: none;\n",
       "  padding: 0 !important;\n",
       "  margin: 0;\n",
       "}\n",
       "\n",
       ".xr-dim-list li {\n",
       "  display: inline-block;\n",
       "  padding: 0;\n",
       "  margin: 0;\n",
       "}\n",
       "\n",
       ".xr-dim-list:before {\n",
       "  content: '(';\n",
       "}\n",
       "\n",
       ".xr-dim-list:after {\n",
       "  content: ')';\n",
       "}\n",
       "\n",
       ".xr-dim-list li:not(:last-child):after {\n",
       "  content: ',';\n",
       "  padding-right: 5px;\n",
       "}\n",
       "\n",
       ".xr-has-index {\n",
       "  font-weight: bold;\n",
       "}\n",
       "\n",
       ".xr-var-list,\n",
       ".xr-var-item {\n",
       "  display: contents;\n",
       "}\n",
       "\n",
       ".xr-var-item > div,\n",
       ".xr-var-item label,\n",
       ".xr-var-item > .xr-var-name span {\n",
       "  background-color: var(--xr-background-color-row-even);\n",
       "  margin-bottom: 0;\n",
       "}\n",
       "\n",
       ".xr-var-item > .xr-var-name:hover span {\n",
       "  padding-right: 5px;\n",
       "}\n",
       "\n",
       ".xr-var-list > li:nth-child(odd) > div,\n",
       ".xr-var-list > li:nth-child(odd) > label,\n",
       ".xr-var-list > li:nth-child(odd) > .xr-var-name span {\n",
       "  background-color: var(--xr-background-color-row-odd);\n",
       "}\n",
       "\n",
       ".xr-var-name {\n",
       "  grid-column: 1;\n",
       "}\n",
       "\n",
       ".xr-var-dims {\n",
       "  grid-column: 2;\n",
       "}\n",
       "\n",
       ".xr-var-dtype {\n",
       "  grid-column: 3;\n",
       "  text-align: right;\n",
       "  color: var(--xr-font-color2);\n",
       "}\n",
       "\n",
       ".xr-var-preview {\n",
       "  grid-column: 4;\n",
       "}\n",
       "\n",
       ".xr-index-preview {\n",
       "  grid-column: 2 / 5;\n",
       "  color: var(--xr-font-color2);\n",
       "}\n",
       "\n",
       ".xr-var-name,\n",
       ".xr-var-dims,\n",
       ".xr-var-dtype,\n",
       ".xr-preview,\n",
       ".xr-attrs dt {\n",
       "  white-space: nowrap;\n",
       "  overflow: hidden;\n",
       "  text-overflow: ellipsis;\n",
       "  padding-right: 10px;\n",
       "}\n",
       "\n",
       ".xr-var-name:hover,\n",
       ".xr-var-dims:hover,\n",
       ".xr-var-dtype:hover,\n",
       ".xr-attrs dt:hover {\n",
       "  overflow: visible;\n",
       "  width: auto;\n",
       "  z-index: 1;\n",
       "}\n",
       "\n",
       ".xr-var-attrs,\n",
       ".xr-var-data,\n",
       ".xr-index-data {\n",
       "  display: none;\n",
       "  background-color: var(--xr-background-color) !important;\n",
       "  padding-bottom: 5px !important;\n",
       "}\n",
       "\n",
       ".xr-var-attrs-in:checked ~ .xr-var-attrs,\n",
       ".xr-var-data-in:checked ~ .xr-var-data,\n",
       ".xr-index-data-in:checked ~ .xr-index-data {\n",
       "  display: block;\n",
       "}\n",
       "\n",
       ".xr-var-data > table {\n",
       "  float: right;\n",
       "}\n",
       "\n",
       ".xr-var-name span,\n",
       ".xr-var-data,\n",
       ".xr-index-name div,\n",
       ".xr-index-data,\n",
       ".xr-attrs {\n",
       "  padding-left: 25px !important;\n",
       "}\n",
       "\n",
       ".xr-attrs,\n",
       ".xr-var-attrs,\n",
       ".xr-var-data,\n",
       ".xr-index-data {\n",
       "  grid-column: 1 / -1;\n",
       "}\n",
       "\n",
       "dl.xr-attrs {\n",
       "  padding: 0;\n",
       "  margin: 0;\n",
       "  display: grid;\n",
       "  grid-template-columns: 125px auto;\n",
       "}\n",
       "\n",
       ".xr-attrs dt,\n",
       ".xr-attrs dd {\n",
       "  padding: 0;\n",
       "  margin: 0;\n",
       "  float: left;\n",
       "  padding-right: 10px;\n",
       "  width: auto;\n",
       "}\n",
       "\n",
       ".xr-attrs dt {\n",
       "  font-weight: normal;\n",
       "  grid-column: 1;\n",
       "}\n",
       "\n",
       ".xr-attrs dt:hover span {\n",
       "  display: inline-block;\n",
       "  background: var(--xr-background-color);\n",
       "  padding-right: 10px;\n",
       "}\n",
       "\n",
       ".xr-attrs dd {\n",
       "  grid-column: 2;\n",
       "  white-space: pre-wrap;\n",
       "  word-break: break-all;\n",
       "}\n",
       "\n",
       ".xr-icon-database,\n",
       ".xr-icon-file-text2,\n",
       ".xr-no-icon {\n",
       "  display: inline-block;\n",
       "  vertical-align: middle;\n",
       "  width: 1em;\n",
       "  height: 1.5em !important;\n",
       "  stroke-width: 0;\n",
       "  stroke: currentColor;\n",
       "  fill: currentColor;\n",
       "}\n",
       "</style><pre class='xr-text-repr-fallback'>&lt;xarray.Dataset&gt;\n",
       "Dimensions:     (poly_idx: 3141, month: 12)\n",
       "Coordinates:\n",
       "  * poly_idx    (poly_idx) int64 0 1 2 3 4 5 6 ... 3135 3136 3137 3138 3139 3140\n",
       "  * month       (month) int64 1 2 3 4 5 6 7 8 9 10 11 12\n",
       "Data variables:\n",
       "    NAME        (poly_idx) object &#x27;Lake of the Woods&#x27; &#x27;Ferry&#x27; ... &#x27;Broomfield&#x27;\n",
       "    STATE_NAME  (poly_idx) object &#x27;Minnesota&#x27; &#x27;Washington&#x27; ... &#x27;Colorado&#x27;\n",
       "    STATE_FIPS  (poly_idx) object &#x27;27&#x27; &#x27;53&#x27; &#x27;53&#x27; &#x27;53&#x27; ... &#x27;02&#x27; &#x27;02&#x27; &#x27;02&#x27; &#x27;08&#x27;\n",
       "    CNTY_FIPS   (poly_idx) object &#x27;077&#x27; &#x27;019&#x27; &#x27;065&#x27; &#x27;047&#x27; ... &#x27;240&#x27; &#x27;068&#x27; &#x27;014&#x27;\n",
       "    FIPS        (poly_idx) object &#x27;27077&#x27; &#x27;53019&#x27; &#x27;53065&#x27; ... &#x27;02068&#x27; &#x27;08014&#x27;\n",
       "    tas         (poly_idx, month) float64 264.0 268.9 274.0 ... 276.4 270.4</pre><div class='xr-wrap' style='display:none'><div class='xr-header'><div class='xr-obj-type'>xarray.Dataset</div></div><ul class='xr-sections'><li class='xr-section-item'><input id='section-e9d0cd33-e999-460c-be00-41706074adb5' class='xr-section-summary-in' type='checkbox' disabled ><label for='section-e9d0cd33-e999-460c-be00-41706074adb5' class='xr-section-summary'  title='Expand/collapse section'>Dimensions:</label><div class='xr-section-inline-details'><ul class='xr-dim-list'><li><span class='xr-has-index'>poly_idx</span>: 3141</li><li><span class='xr-has-index'>month</span>: 12</li></ul></div><div class='xr-section-details'></div></li><li class='xr-section-item'><input id='section-a6e03172-7a67-40bf-b86e-76f95cbdefe2' class='xr-section-summary-in' type='checkbox'  checked><label for='section-a6e03172-7a67-40bf-b86e-76f95cbdefe2' class='xr-section-summary' >Coordinates: <span>(2)</span></label><div class='xr-section-inline-details'></div><div class='xr-section-details'><ul class='xr-var-list'><li class='xr-var-item'><div class='xr-var-name'><span class='xr-has-index'>poly_idx</span></div><div class='xr-var-dims'>(poly_idx)</div><div class='xr-var-dtype'>int64</div><div class='xr-var-preview xr-preview'>0 1 2 3 4 ... 3137 3138 3139 3140</div><input id='attrs-7bff5b94-96c6-4018-823e-bdbbec9b58de' class='xr-var-attrs-in' type='checkbox' disabled><label for='attrs-7bff5b94-96c6-4018-823e-bdbbec9b58de' title='Show/Hide attributes'><svg class='icon xr-icon-file-text2'><use xlink:href='#icon-file-text2'></use></svg></label><input id='data-4dddba75-8bc3-4a69-8c58-27de26872e36' class='xr-var-data-in' type='checkbox'><label for='data-4dddba75-8bc3-4a69-8c58-27de26872e36' title='Show/Hide data repr'><svg class='icon xr-icon-database'><use xlink:href='#icon-database'></use></svg></label><div class='xr-var-attrs'><dl class='xr-attrs'></dl></div><div class='xr-var-data'><pre>array([   0,    1,    2, ..., 3138, 3139, 3140])</pre></div></li><li class='xr-var-item'><div class='xr-var-name'><span class='xr-has-index'>month</span></div><div class='xr-var-dims'>(month)</div><div class='xr-var-dtype'>int64</div><div class='xr-var-preview xr-preview'>1 2 3 4 5 6 7 8 9 10 11 12</div><input id='attrs-8021b2f6-2bbb-4c53-b9e6-39deb1d1cbea' class='xr-var-attrs-in' type='checkbox' disabled><label for='attrs-8021b2f6-2bbb-4c53-b9e6-39deb1d1cbea' title='Show/Hide attributes'><svg class='icon xr-icon-file-text2'><use xlink:href='#icon-file-text2'></use></svg></label><input id='data-5e672c4e-89cd-4112-aed8-b731b7144bcf' class='xr-var-data-in' type='checkbox'><label for='data-5e672c4e-89cd-4112-aed8-b731b7144bcf' title='Show/Hide data repr'><svg class='icon xr-icon-database'><use xlink:href='#icon-database'></use></svg></label><div class='xr-var-attrs'><dl class='xr-attrs'></dl></div><div class='xr-var-data'><pre>array([ 1,  2,  3,  4,  5,  6,  7,  8,  9, 10, 11, 12])</pre></div></li></ul></div></li><li class='xr-section-item'><input id='section-3e99b080-5756-4f13-964e-9015056a5a88' class='xr-section-summary-in' type='checkbox'  checked><label for='section-3e99b080-5756-4f13-964e-9015056a5a88' class='xr-section-summary' >Data variables: <span>(6)</span></label><div class='xr-section-inline-details'></div><div class='xr-section-details'><ul class='xr-var-list'><li class='xr-var-item'><div class='xr-var-name'><span>NAME</span></div><div class='xr-var-dims'>(poly_idx)</div><div class='xr-var-dtype'>object</div><div class='xr-var-preview xr-preview'>&#x27;Lake of the Woods&#x27; ... &#x27;Broomfi...</div><input id='attrs-f837fd32-aca0-46f6-91a4-5e850fcf77e6' class='xr-var-attrs-in' type='checkbox' disabled><label for='attrs-f837fd32-aca0-46f6-91a4-5e850fcf77e6' title='Show/Hide attributes'><svg class='icon xr-icon-file-text2'><use xlink:href='#icon-file-text2'></use></svg></label><input id='data-3bf92a8a-1f44-402f-ae9e-7fd7bb19576e' class='xr-var-data-in' type='checkbox'><label for='data-3bf92a8a-1f44-402f-ae9e-7fd7bb19576e' title='Show/Hide data repr'><svg class='icon xr-icon-database'><use xlink:href='#icon-database'></use></svg></label><div class='xr-var-attrs'><dl class='xr-attrs'></dl></div><div class='xr-var-data'><pre>array([&#x27;Lake of the Woods&#x27;, &#x27;Ferry&#x27;, &#x27;Stevens&#x27;, ...,\n",
       "       &#x27;Southeast Fairbanks&#x27;, &#x27;Denali&#x27;, &#x27;Broomfield&#x27;], dtype=object)</pre></div></li><li class='xr-var-item'><div class='xr-var-name'><span>STATE_NAME</span></div><div class='xr-var-dims'>(poly_idx)</div><div class='xr-var-dtype'>object</div><div class='xr-var-preview xr-preview'>&#x27;Minnesota&#x27; ... &#x27;Colorado&#x27;</div><input id='attrs-7e608201-0b6e-456d-92f1-e1cd65113128' class='xr-var-attrs-in' type='checkbox' disabled><label for='attrs-7e608201-0b6e-456d-92f1-e1cd65113128' title='Show/Hide attributes'><svg class='icon xr-icon-file-text2'><use xlink:href='#icon-file-text2'></use></svg></label><input id='data-7226d983-b32d-4e70-89a6-10989d5568a7' class='xr-var-data-in' type='checkbox'><label for='data-7226d983-b32d-4e70-89a6-10989d5568a7' title='Show/Hide data repr'><svg class='icon xr-icon-database'><use xlink:href='#icon-database'></use></svg></label><div class='xr-var-attrs'><dl class='xr-attrs'></dl></div><div class='xr-var-data'><pre>array([&#x27;Minnesota&#x27;, &#x27;Washington&#x27;, &#x27;Washington&#x27;, ..., &#x27;Alaska&#x27;, &#x27;Alaska&#x27;,\n",
       "       &#x27;Colorado&#x27;], dtype=object)</pre></div></li><li class='xr-var-item'><div class='xr-var-name'><span>STATE_FIPS</span></div><div class='xr-var-dims'>(poly_idx)</div><div class='xr-var-dtype'>object</div><div class='xr-var-preview xr-preview'>&#x27;27&#x27; &#x27;53&#x27; &#x27;53&#x27; ... &#x27;02&#x27; &#x27;02&#x27; &#x27;08&#x27;</div><input id='attrs-d6681a9c-32b1-4bba-b893-d64196cf6a60' class='xr-var-attrs-in' type='checkbox' disabled><label for='attrs-d6681a9c-32b1-4bba-b893-d64196cf6a60' title='Show/Hide attributes'><svg class='icon xr-icon-file-text2'><use xlink:href='#icon-file-text2'></use></svg></label><input id='data-b0ca3747-d082-4d7a-85eb-417f72f1f38f' class='xr-var-data-in' type='checkbox'><label for='data-b0ca3747-d082-4d7a-85eb-417f72f1f38f' title='Show/Hide data repr'><svg class='icon xr-icon-database'><use xlink:href='#icon-database'></use></svg></label><div class='xr-var-attrs'><dl class='xr-attrs'></dl></div><div class='xr-var-data'><pre>array([&#x27;27&#x27;, &#x27;53&#x27;, &#x27;53&#x27;, ..., &#x27;02&#x27;, &#x27;02&#x27;, &#x27;08&#x27;], dtype=object)</pre></div></li><li class='xr-var-item'><div class='xr-var-name'><span>CNTY_FIPS</span></div><div class='xr-var-dims'>(poly_idx)</div><div class='xr-var-dtype'>object</div><div class='xr-var-preview xr-preview'>&#x27;077&#x27; &#x27;019&#x27; &#x27;065&#x27; ... &#x27;068&#x27; &#x27;014&#x27;</div><input id='attrs-edaf7269-80af-4fec-815d-697fc0a5b9e2' class='xr-var-attrs-in' type='checkbox' disabled><label for='attrs-edaf7269-80af-4fec-815d-697fc0a5b9e2' title='Show/Hide attributes'><svg class='icon xr-icon-file-text2'><use xlink:href='#icon-file-text2'></use></svg></label><input id='data-40f76e62-2050-442d-a622-cf129bd8bef7' class='xr-var-data-in' type='checkbox'><label for='data-40f76e62-2050-442d-a622-cf129bd8bef7' title='Show/Hide data repr'><svg class='icon xr-icon-database'><use xlink:href='#icon-database'></use></svg></label><div class='xr-var-attrs'><dl class='xr-attrs'></dl></div><div class='xr-var-data'><pre>array([&#x27;077&#x27;, &#x27;019&#x27;, &#x27;065&#x27;, ..., &#x27;240&#x27;, &#x27;068&#x27;, &#x27;014&#x27;], dtype=object)</pre></div></li><li class='xr-var-item'><div class='xr-var-name'><span>FIPS</span></div><div class='xr-var-dims'>(poly_idx)</div><div class='xr-var-dtype'>object</div><div class='xr-var-preview xr-preview'>&#x27;27077&#x27; &#x27;53019&#x27; ... &#x27;02068&#x27; &#x27;08014&#x27;</div><input id='attrs-1eaf3236-3322-458a-9de2-825e9fe98e81' class='xr-var-attrs-in' type='checkbox' disabled><label for='attrs-1eaf3236-3322-458a-9de2-825e9fe98e81' title='Show/Hide attributes'><svg class='icon xr-icon-file-text2'><use xlink:href='#icon-file-text2'></use></svg></label><input id='data-ff0ea90b-afe2-48e8-9dec-bbb703ba3560' class='xr-var-data-in' type='checkbox'><label for='data-ff0ea90b-afe2-48e8-9dec-bbb703ba3560' title='Show/Hide data repr'><svg class='icon xr-icon-database'><use xlink:href='#icon-database'></use></svg></label><div class='xr-var-attrs'><dl class='xr-attrs'></dl></div><div class='xr-var-data'><pre>array([&#x27;27077&#x27;, &#x27;53019&#x27;, &#x27;53065&#x27;, ..., &#x27;02240&#x27;, &#x27;02068&#x27;, &#x27;08014&#x27;],\n",
       "      dtype=object)</pre></div></li><li class='xr-var-item'><div class='xr-var-name'><span>tas</span></div><div class='xr-var-dims'>(poly_idx, month)</div><div class='xr-var-dtype'>float64</div><div class='xr-var-preview xr-preview'>264.0 268.9 274.0 ... 276.4 270.4</div><input id='attrs-9df9554f-4bca-462a-bfb9-b27223b9c873' class='xr-var-attrs-in' type='checkbox' disabled><label for='attrs-9df9554f-4bca-462a-bfb9-b27223b9c873' title='Show/Hide attributes'><svg class='icon xr-icon-file-text2'><use xlink:href='#icon-file-text2'></use></svg></label><input id='data-d603f036-e8cd-4699-b544-2e8bb9b89591' class='xr-var-data-in' type='checkbox'><label for='data-d603f036-e8cd-4699-b544-2e8bb9b89591' title='Show/Hide data repr'><svg class='icon xr-icon-database'><use xlink:href='#icon-database'></use></svg></label><div class='xr-var-attrs'><dl class='xr-attrs'></dl></div><div class='xr-var-data'><pre>array([[263.9780062 , 268.88786769, 274.01215237, ..., 283.81523287,\n",
       "        275.1416336 , 266.05442984],\n",
       "       [271.78043992, 275.61848506, 276.93418312, ..., 281.63345613,\n",
       "        276.71447491, 272.24200396],\n",
       "       [273.2172504 , 276.94037995, 278.41422511, ..., 283.27395604,\n",
       "        278.0632773 , 273.66618058],\n",
       "       ...,\n",
       "       [263.91916837, 263.89907882, 266.77151434, ..., 272.37796294,\n",
       "        265.70202552, 264.41430225],\n",
       "       [265.04959892, 264.79484859, 268.19315553, ..., 273.14260516,\n",
       "        266.53491608, 265.57515291],\n",
       "       [270.80386353, 273.4302063 , 275.95550537, ..., 283.54470825,\n",
       "        276.38360596, 270.44485474]])</pre></div></li></ul></div></li><li class='xr-section-item'><input id='section-aa1b4272-e235-4336-8c87-0be33d0d7333' class='xr-section-summary-in' type='checkbox'  ><label for='section-aa1b4272-e235-4336-8c87-0be33d0d7333' class='xr-section-summary' >Indexes: <span>(2)</span></label><div class='xr-section-inline-details'></div><div class='xr-section-details'><ul class='xr-var-list'><li class='xr-var-item'><div class='xr-index-name'><div>poly_idx</div></div><div class='xr-index-preview'>PandasIndex</div><div></div><input id='index-3becbe18-0a39-49c7-8f78-4bd64ca29158' class='xr-index-data-in' type='checkbox'/><label for='index-3becbe18-0a39-49c7-8f78-4bd64ca29158' title='Show/Hide index repr'><svg class='icon xr-icon-database'><use xlink:href='#icon-database'></use></svg></label><div class='xr-index-data'><pre>PandasIndex(Index([   0,    1,    2,    3,    4,    5,    6,    7,    8,    9,\n",
       "       ...\n",
       "       3131, 3132, 3133, 3134, 3135, 3136, 3137, 3138, 3139, 3140],\n",
       "      dtype=&#x27;int64&#x27;, name=&#x27;poly_idx&#x27;, length=3141))</pre></div></li><li class='xr-var-item'><div class='xr-index-name'><div>month</div></div><div class='xr-index-preview'>PandasIndex</div><div></div><input id='index-73e46275-78ba-4a9c-aa08-60b411e850f2' class='xr-index-data-in' type='checkbox'/><label for='index-73e46275-78ba-4a9c-aa08-60b411e850f2' title='Show/Hide index repr'><svg class='icon xr-icon-database'><use xlink:href='#icon-database'></use></svg></label><div class='xr-index-data'><pre>PandasIndex(Index([1, 2, 3, 4, 5, 6, 7, 8, 9, 10, 11, 12], dtype=&#x27;int64&#x27;, name=&#x27;month&#x27;))</pre></div></li></ul></div></li><li class='xr-section-item'><input id='section-078e6897-742a-4832-9067-f8a3c8bceea8' class='xr-section-summary-in' type='checkbox' disabled ><label for='section-078e6897-742a-4832-9067-f8a3c8bceea8' class='xr-section-summary'  title='Expand/collapse section'>Attributes: <span>(0)</span></label><div class='xr-section-inline-details'></div><div class='xr-section-details'><dl class='xr-attrs'></dl></div></li></ul></div></div>"
      ],
      "text/plain": [
       "<xarray.Dataset>\n",
       "Dimensions:     (poly_idx: 3141, month: 12)\n",
       "Coordinates:\n",
       "  * poly_idx    (poly_idx) int64 0 1 2 3 4 5 6 ... 3135 3136 3137 3138 3139 3140\n",
       "  * month       (month) int64 1 2 3 4 5 6 7 8 9 10 11 12\n",
       "Data variables:\n",
       "    NAME        (poly_idx) object 'Lake of the Woods' 'Ferry' ... 'Broomfield'\n",
       "    STATE_NAME  (poly_idx) object 'Minnesota' 'Washington' ... 'Colorado'\n",
       "    STATE_FIPS  (poly_idx) object '27' '53' '53' '53' ... '02' '02' '02' '08'\n",
       "    CNTY_FIPS   (poly_idx) object '077' '019' '065' '047' ... '240' '068' '014'\n",
       "    FIPS        (poly_idx) object '27077' '53019' '53065' ... '02068' '08014'\n",
       "    tas         (poly_idx, month) float64 264.0 268.9 274.0 ... 276.4 270.4"
      ]
     },
     "execution_count": 13,
     "metadata": {},
     "output_type": "execute_result"
    }
   ],
   "source": [
    "# Example as a dataset\n",
    "ds_out = aggregated.to_dataset()\n",
    "ds_out"
   ]
  },
  {
   "cell_type": "code",
   "execution_count": 14,
   "id": "electrical-ticket",
   "metadata": {},
   "outputs": [
    {
     "data": {
      "text/html": [
       "<div>\n",
       "<style scoped>\n",
       "    .dataframe tbody tr th:only-of-type {\n",
       "        vertical-align: middle;\n",
       "    }\n",
       "\n",
       "    .dataframe tbody tr th {\n",
       "        vertical-align: top;\n",
       "    }\n",
       "\n",
       "    .dataframe thead th {\n",
       "        text-align: right;\n",
       "    }\n",
       "</style>\n",
       "<table border=\"1\" class=\"dataframe\">\n",
       "  <thead>\n",
       "    <tr style=\"text-align: right;\">\n",
       "      <th></th>\n",
       "      <th></th>\n",
       "      <th>NAME</th>\n",
       "      <th>STATE_NAME</th>\n",
       "      <th>STATE_FIPS</th>\n",
       "      <th>CNTY_FIPS</th>\n",
       "      <th>FIPS</th>\n",
       "      <th>tas</th>\n",
       "    </tr>\n",
       "    <tr>\n",
       "      <th>poly_idx</th>\n",
       "      <th>month</th>\n",
       "      <th></th>\n",
       "      <th></th>\n",
       "      <th></th>\n",
       "      <th></th>\n",
       "      <th></th>\n",
       "      <th></th>\n",
       "    </tr>\n",
       "  </thead>\n",
       "  <tbody>\n",
       "    <tr>\n",
       "      <th rowspan=\"5\" valign=\"top\">0</th>\n",
       "      <th>1</th>\n",
       "      <td>Lake of the Woods</td>\n",
       "      <td>Minnesota</td>\n",
       "      <td>27</td>\n",
       "      <td>077</td>\n",
       "      <td>27077</td>\n",
       "      <td>263.978006</td>\n",
       "    </tr>\n",
       "    <tr>\n",
       "      <th>2</th>\n",
       "      <td>Lake of the Woods</td>\n",
       "      <td>Minnesota</td>\n",
       "      <td>27</td>\n",
       "      <td>077</td>\n",
       "      <td>27077</td>\n",
       "      <td>268.887868</td>\n",
       "    </tr>\n",
       "    <tr>\n",
       "      <th>3</th>\n",
       "      <td>Lake of the Woods</td>\n",
       "      <td>Minnesota</td>\n",
       "      <td>27</td>\n",
       "      <td>077</td>\n",
       "      <td>27077</td>\n",
       "      <td>274.012152</td>\n",
       "    </tr>\n",
       "    <tr>\n",
       "      <th>4</th>\n",
       "      <td>Lake of the Woods</td>\n",
       "      <td>Minnesota</td>\n",
       "      <td>27</td>\n",
       "      <td>077</td>\n",
       "      <td>27077</td>\n",
       "      <td>283.158717</td>\n",
       "    </tr>\n",
       "    <tr>\n",
       "      <th>5</th>\n",
       "      <td>Lake of the Woods</td>\n",
       "      <td>Minnesota</td>\n",
       "      <td>27</td>\n",
       "      <td>077</td>\n",
       "      <td>27077</td>\n",
       "      <td>290.630598</td>\n",
       "    </tr>\n",
       "    <tr>\n",
       "      <th>...</th>\n",
       "      <th>...</th>\n",
       "      <td>...</td>\n",
       "      <td>...</td>\n",
       "      <td>...</td>\n",
       "      <td>...</td>\n",
       "      <td>...</td>\n",
       "      <td>...</td>\n",
       "    </tr>\n",
       "    <tr>\n",
       "      <th rowspan=\"5\" valign=\"top\">3140</th>\n",
       "      <th>8</th>\n",
       "      <td>Broomfield</td>\n",
       "      <td>Colorado</td>\n",
       "      <td>08</td>\n",
       "      <td>014</td>\n",
       "      <td>08014</td>\n",
       "      <td>297.646820</td>\n",
       "    </tr>\n",
       "    <tr>\n",
       "      <th>9</th>\n",
       "      <td>Broomfield</td>\n",
       "      <td>Colorado</td>\n",
       "      <td>08</td>\n",
       "      <td>014</td>\n",
       "      <td>08014</td>\n",
       "      <td>292.368988</td>\n",
       "    </tr>\n",
       "    <tr>\n",
       "      <th>10</th>\n",
       "      <td>Broomfield</td>\n",
       "      <td>Colorado</td>\n",
       "      <td>08</td>\n",
       "      <td>014</td>\n",
       "      <td>08014</td>\n",
       "      <td>283.544708</td>\n",
       "    </tr>\n",
       "    <tr>\n",
       "      <th>11</th>\n",
       "      <td>Broomfield</td>\n",
       "      <td>Colorado</td>\n",
       "      <td>08</td>\n",
       "      <td>014</td>\n",
       "      <td>08014</td>\n",
       "      <td>276.383606</td>\n",
       "    </tr>\n",
       "    <tr>\n",
       "      <th>12</th>\n",
       "      <td>Broomfield</td>\n",
       "      <td>Colorado</td>\n",
       "      <td>08</td>\n",
       "      <td>014</td>\n",
       "      <td>08014</td>\n",
       "      <td>270.444855</td>\n",
       "    </tr>\n",
       "  </tbody>\n",
       "</table>\n",
       "<p>37692 rows × 6 columns</p>\n",
       "</div>"
      ],
      "text/plain": [
       "                             NAME STATE_NAME STATE_FIPS CNTY_FIPS   FIPS  \\\n",
       "poly_idx month                                                             \n",
       "0        1      Lake of the Woods  Minnesota         27       077  27077   \n",
       "         2      Lake of the Woods  Minnesota         27       077  27077   \n",
       "         3      Lake of the Woods  Minnesota         27       077  27077   \n",
       "         4      Lake of the Woods  Minnesota         27       077  27077   \n",
       "         5      Lake of the Woods  Minnesota         27       077  27077   \n",
       "...                           ...        ...        ...       ...    ...   \n",
       "3140     8             Broomfield   Colorado         08       014  08014   \n",
       "         9             Broomfield   Colorado         08       014  08014   \n",
       "         10            Broomfield   Colorado         08       014  08014   \n",
       "         11            Broomfield   Colorado         08       014  08014   \n",
       "         12            Broomfield   Colorado         08       014  08014   \n",
       "\n",
       "                       tas  \n",
       "poly_idx month              \n",
       "0        1      263.978006  \n",
       "         2      268.887868  \n",
       "         3      274.012152  \n",
       "         4      283.158717  \n",
       "         5      290.630598  \n",
       "...                    ...  \n",
       "3140     8      297.646820  \n",
       "         9      292.368988  \n",
       "         10     283.544708  \n",
       "         11     276.383606  \n",
       "         12     270.444855  \n",
       "\n",
       "[37692 rows x 6 columns]"
      ]
     },
     "execution_count": 14,
     "metadata": {},
     "output_type": "execute_result"
    }
   ],
   "source": [
    "# Example as a dataframe\n",
    "df_out = aggregated.to_dataframe()\n",
    "df_out"
   ]
  },
  {
   "cell_type": "markdown",
   "id": "likely-grade",
   "metadata": {},
   "source": [
    "## Exporting aggregated data"
   ]
  },
  {
   "cell_type": "markdown",
   "id": "framed-adjustment",
   "metadata": {},
   "source": [
    "For reproducability and code simplicity, you will likely want to save your aggregated data. In addtion, many researchers use multiple languages or software packages as part of their workflow; for example, STATA or R for regression analysis, or QGIS for spatial analysis, and need to be able to transfer their work to these other environments. \n",
    "\n",
    "`xagg` has built-in export functions that allow the export of aggregated data to:\n",
    "- NetCDF\n",
    "- csv (for use in STATA, R)\n",
    "- shapefile (for use in GIS applications)"
   ]
  },
  {
   "cell_type": "markdown",
   "id": "pleased-acquisition",
   "metadata": {},
   "source": [
    "### Export to netCDF\n",
    "The netCDF export functionality saves all aggregated variables by replacing the grid dimensions (`lat`, `lon`) with a single location dimension (called `poly_idx`, but this can be changed with the `loc_dim=` argument). \n",
    "\n",
    "Other dimensions (e.g. `time`) are kept as they were originally in the grid variable.\n",
    "\n",
    "Fields in the inputted polygons (e.g., FIPS codes for the US Counties shapefile used here) are saved as additional variables. Attributes from the original `xarray` structure are kept. \n",
    "\n",
    "Note that in all exports, if `xa.set_defaults(silent=False)`, a status update will be given when the file has successfully been exported. "
   ]
  },
  {
   "cell_type": "code",
   "execution_count": null,
   "id": "horizontal-reduction",
   "metadata": {},
   "outputs": [],
   "source": [
    "# Export to netcdf\n",
    "aggregated.to_netcdf('file_out.nc')"
   ]
  },
  {
   "cell_type": "markdown",
   "id": "selected-tampa",
   "metadata": {},
   "source": [
    "### Export to .csv\n",
    "The .csv output functionality saves files in a polygon (rows) vs. variables (columns) format. Each aggregated variable and each field in the original inputted polygons are saved as columns. Named attributes in the inputted netcdf file are not included. \n",
    "\n",
    "Currently .csvs are only saved \"wide\" - i.e., a `lat x lon x time` variable `tas`, aggregated to `location x time`, would be reshaped wide so that each timestep is saved in its own column, named `tas0`, `tas1`, and so forth. \n",
    "\n"
   ]
  },
  {
   "cell_type": "code",
   "execution_count": null,
   "id": "compact-opera",
   "metadata": {},
   "outputs": [],
   "source": [
    "# Export to csv\n",
    "aggregated.to_csv('file_out.csv')"
   ]
  },
  {
   "cell_type": "markdown",
   "id": "checked-bikini",
   "metadata": {},
   "source": [
    "### Export to shapefile\n",
    "The shapefile export functionality keeps the geometry of the originally input polygons, and adds the aggregated variables as fields. \n",
    "\n",
    "Similar to .csv export above, if aggregated variables have a dimension beyond their location dimensions (e.g., `time`), each step in that dimension is saved in a separate field, named after the variable and the integer of the index along that dimension (e.g., `tas0`, `tas1`, etc. for a variable `tas`). \n",
    "\n",
    "Named attributes in the inputted netcdf file are not included. "
   ]
  },
  {
   "cell_type": "code",
   "execution_count": null,
   "id": "serious-placement",
   "metadata": {},
   "outputs": [],
   "source": [
    "# Export to shapefile\n",
    "aggregated.to_shp('file_out.shp')"
   ]
  }
 ],
 "metadata": {
  "kernelspec": {
   "display_name": "Python 3 (ipykernel)",
   "language": "python",
   "name": "python3"
  },
  "language_info": {
   "codemirror_mode": {
    "name": "ipython",
    "version": 3
   },
   "file_extension": ".py",
   "mimetype": "text/x-python",
   "name": "python",
   "nbconvert_exporter": "python",
   "pygments_lexer": "ipython3",
   "version": "3.12.1"
  }
 },
 "nbformat": 4,
 "nbformat_minor": 5
}
